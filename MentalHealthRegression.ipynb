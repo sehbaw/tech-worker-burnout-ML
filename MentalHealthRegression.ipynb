{
  "nbformat": 4,
  "nbformat_minor": 0,
  "metadata": {
    "colab": {
      "provenance": []
    },
    "kernelspec": {
      "name": "python3",
      "display_name": "Python 3"
    },
    "language_info": {
      "name": "python"
    }
  },
  "cells": [
    {
      "cell_type": "markdown",
      "source": [
        "TEAM: sehba wani, Oghenetega Ojegun, vennela gedipudi\n"
      ],
      "metadata": {
        "id": "ZqdQa8BKEu2d"
      }
    },
    {
      "cell_type": "markdown",
      "source": [
        "DATASET: https://www.kaggle.com/datasets/osmi/mental-health-in-tech-survey"
      ],
      "metadata": {
        "id": "0zmOtIFgawdj"
      }
    },
    {
      "cell_type": "markdown",
      "source": [
        "QUESTION: In the context of working at a tech job, does the likelihood of seeking treatment for burnout vary based on whether or not an individual has sought mental health help before?"
      ],
      "metadata": {
        "id": "AUV_0DcmUDk6"
      }
    },
    {
      "cell_type": "markdown",
      "source": [
        "import libraries\n"
      ],
      "metadata": {
        "id": "M_PPk91r1zMt"
      }
    },
    {
      "cell_type": "code",
      "execution_count": null,
      "metadata": {
        "id": "lih6Ik3H1juK"
      },
      "outputs": [],
      "source": [
        "import pandas as pd\n",
        "from sklearn.linear_model import LogisticRegression\n",
        "from sklearn.model_selection import train_test_split\n",
        "from sklearn.metrics import classification_report, confusion_matrix\n",
        "from sklearn.metrics import roc_auc_score, roc_curve, accuracy_score\n",
        "from sklearn.metrics import precision_score, recall_score\n",
        "from sklearn import preprocessing\n",
        "import numpy as np\n",
        "import matplotlib.pyplot as plt\n",
        "import seaborn as sns\n",
        "%matplotlib inline"
      ]
    },
    {
      "cell_type": "markdown",
      "source": [
        "import data and reading it"
      ],
      "metadata": {
        "id": "oX7TDp_5T7VP"
      }
    },
    {
      "cell_type": "code",
      "source": [
        "pre_df = pd.read_csv('/survey.csv')"
      ],
      "metadata": {
        "id": "94JVCylJT6rC"
      },
      "execution_count": null,
      "outputs": []
    },
    {
      "cell_type": "code",
      "source": [
        "pre_df.head()"
      ],
      "metadata": {
        "id": "nsgxSx-madQR"
      },
      "execution_count": null,
      "outputs": []
    },
    {
      "cell_type": "markdown",
      "source": [
        "Information about our particular question\n",
        "\n",
        "\n",
        "Target:\n",
        "Does the worker work at a tech company (Yes or No?) → Categorical Value\n",
        "\n",
        "Features:\n",
        "Customer Characteristics of Distinction: age, gender, country, state\n",
        "Customer job-related characteristics: work interference, remote, tech company(main feature / categorical value), coworkers, leave\n",
        "Customer history: family history, mental health, physical health, bipolar disorder, obs consequence(memory impairment, logical function and agitation)\n",
        "Other: comments\n"
      ],
      "metadata": {
        "id": "u_PjuBAna81u"
      }
    },
    {
      "cell_type": "markdown",
      "source": [
        "cleaning the df\n"
      ],
      "metadata": {
        "id": "VSyS_aoiEWSH"
      }
    },
    {
      "cell_type": "code",
      "source": [
        "#drop country and state\n",
        "survey_df = pre_df.drop(columns=['Timestamp','self_employed','no_employees','benefits','care_options','wellness_program','anonymity','supervisor','mental_health_interview','phys_health_interview','mental_vs_physical','outcome'],axis=1)"
      ],
      "metadata": {
        "id": "-R8VbcbbaNLv"
      },
      "execution_count": null,
      "outputs": []
    },
    {
      "cell_type": "code",
      "source": [
        "survey_df"
      ],
      "metadata": {
        "id": "mlEl_XmWfncy"
      },
      "execution_count": null,
      "outputs": []
    },
    {
      "cell_type": "markdown",
      "source": [
        "cleaning code\n"
      ],
      "metadata": {
        "id": "l6yqPn-wUvx3"
      }
    },
    {
      "cell_type": "code",
      "source": [
        "survey_df = survey_df.dropna()\n",
        "#survey_filter = survey_df[survey_df['Gender']=='Male' & 'Female']\n",
        "survey_filter = survey_df[(survey_df['Gender'] == 'Male') | (survey_df['Gender'] == 'Female')]\n",
        "#survey_df = survey_df.drop(['1','1190'])\n",
        "len(survey_filter)\n"
      ],
      "metadata": {
        "id": "0I3h0w2pbfbD"
      },
      "execution_count": null,
      "outputs": []
    },
    {
      "cell_type": "code",
      "source": [
        "#Use LabelEncoder to change the Dtypes to 'int'\n",
        "from sklearn.preprocessing import LabelEncoder\n",
        "\n",
        "le = LabelEncoder()\n",
        "#Make the dataset include all the columns we need to change their dtypes\n",
        "columns_to_encode = ['Gender','family_history','treatment','remote_work','work_interfere','tech_company','seek_help','leave','mental_health_consequence','phys_health_consequence','coworkers','obs_consequence']\n",
        "#Write a Loop for fitting LabelEncoder on columns_to_encode\n",
        "for columns in columns_to_encode:\n",
        "    survey_df[columns] = le.fit_transform(survey_df[columns])\n",
        "\n",
        "survey_df.info()"
      ],
      "metadata": {
        "id": "RVUirqShVIu4"
      },
      "execution_count": null,
      "outputs": []
    },
    {
      "cell_type": "code",
      "source": [
        "survey_df.info()"
      ],
      "metadata": {
        "id": "rN1D_9-lWfwF"
      },
      "execution_count": null,
      "outputs": []
    },
    {
      "cell_type": "code",
      "source": [
        "survey_df"
      ],
      "metadata": {
        "id": "pIQ0MB8_ZnU2"
      },
      "execution_count": null,
      "outputs": []
    },
    {
      "cell_type": "markdown",
      "source": [
        "# Setting up the model\n"
      ],
      "metadata": {
        "id": "YAfSPSNYjRtw"
      }
    },
    {
      "cell_type": "code",
      "source": [
        "#X = survey_df.iloc[:,0:-1] #collecting all the data except the last column aka the outcome\n",
        "X = survey_df.drop(columns = ['treatment'])\n",
        "y = survey_df.treatment"
      ],
      "metadata": {
        "id": "VG5xOdsKfYUj"
      },
      "execution_count": null,
      "outputs": []
    },
    {
      "cell_type": "code",
      "source": [
        "X.head()"
      ],
      "metadata": {
        "id": "6jBOMLM1T6mq"
      },
      "execution_count": null,
      "outputs": []
    },
    {
      "cell_type": "code",
      "source": [
        "len(survey_df[survey_df[\"treatment\"]==0])"
      ],
      "metadata": {
        "id": "Zo9dFXKv10To"
      },
      "execution_count": null,
      "outputs": []
    },
    {
      "cell_type": "code",
      "source": [
        "len(survey_df[survey_df[\"treatment\"]==1])"
      ],
      "metadata": {
        "id": "uK66cTZW15jd"
      },
      "execution_count": null,
      "outputs": []
    },
    {
      "cell_type": "code",
      "source": [
        "X_train,X_test,y_train,y_test=train_test_split(X,y,test_size=0.25,random_state=0)"
      ],
      "metadata": {
        "id": "jrtIoxlyT6d8"
      },
      "execution_count": null,
      "outputs": []
    },
    {
      "cell_type": "code",
      "source": [
        "#not necessarily using this code just took as reference from lecture\n",
        "\n",
        "LogReg = LogisticRegression()\n",
        "\n",
        "scaler = preprocessing.StandardScaler()\n",
        "X_train = scaler.fit_transform(X_train)\n",
        "X_test = scaler.transform(X_test)\n",
        "\n",
        "LogReg.fit(X_train,y_train)\n",
        "\n",
        "\n",
        "y_pred=LogReg.predict(X_test)"
      ],
      "metadata": {
        "id": "qlE-rILaT5la"
      },
      "execution_count": null,
      "outputs": []
    },
    {
      "cell_type": "code",
      "source": [
        "print('Classes', LogReg.classes_)\n",
        "print('Intercept',LogReg.intercept_)\n",
        "print(\"Coefficients\", LogReg.coef_ )"
      ],
      "metadata": {
        "id": "pIxNma3c1sdu"
      },
      "execution_count": null,
      "outputs": []
    },
    {
      "cell_type": "code",
      "source": [
        "print(\"Accuracy\", LogReg.score(X_test, y_test))\n",
        "print(classification_report(y_test, LogReg.predict(X_test)))"
      ],
      "metadata": {
        "id": "q2Z971c71tLX"
      },
      "execution_count": null,
      "outputs": []
    },
    {
      "cell_type": "code",
      "source": [
        "# Dummy classifier in SKlearn\n",
        "from sklearn.dummy import DummyClassifier\n",
        "dummy_clf = DummyClassifier(strategy=\"most_frequent\")"
      ],
      "metadata": {
        "id": "FnZpTrV42t3U"
      },
      "execution_count": null,
      "outputs": []
    },
    {
      "cell_type": "code",
      "source": [
        "print(\"Accuracy:\", accuracy_score(y_test, y_pred))\n",
        "print(\"Precision:\", precision_score(y_test, y_pred))\n",
        "print(\"Recall:\", recall_score(y_test, y_pred))"
      ],
      "metadata": {
        "id": "ySdM4phf2wRX"
      },
      "execution_count": null,
      "outputs": []
    },
    {
      "cell_type": "markdown",
      "source": [
        "#Confusion Matrix"
      ],
      "metadata": {
        "id": "Y7FjWj6UZF5Z"
      }
    },
    {
      "cell_type": "code",
      "source": [
        "conf_mat = confusion_matrix(y_test, y_pred)\n",
        "conf_mat"
      ],
      "metadata": {
        "id": "JRU9Yu_rY0Px"
      },
      "execution_count": null,
      "outputs": []
    },
    {
      "cell_type": "code",
      "source": [
        "# Dummy classifier in SKlearn\n",
        "from sklearn.dummy import DummyClassifier\n",
        "dummy_clf = DummyClassifier(strategy=\"most_frequent\")"
      ],
      "metadata": {
        "id": "BqVN9BbI11_6"
      },
      "execution_count": null,
      "outputs": []
    },
    {
      "cell_type": "code",
      "source": [
        "#heatmap matrix\n",
        "\n",
        "categories = [0,1]\n",
        "fig, ax = plt.subplots()\n",
        "plt.xticks([0,1], categories)\n",
        "plt.yticks([0,1], categories)\n",
        "# create heatmap\n",
        "sns.heatmap(pd.DataFrame(conf_mat), annot=True, cmap=\"YlGnBu\" ,fmt='g')\n",
        "ax.xaxis.set_label_position(\"top\")\n",
        "plt.tight_layout()\n",
        "plt.title('Confusion matrix', y=1.1)\n",
        "plt.ylabel('Actual label')\n",
        "plt.xlabel('Predicted label')"
      ],
      "metadata": {
        "id": "lTAyhJMYE7Hh"
      },
      "execution_count": null,
      "outputs": []
    },
    {
      "cell_type": "markdown",
      "source": [
        "F1 score"
      ],
      "metadata": {
        "id": "bO0Zrs-dY04z"
      }
    },
    {
      "cell_type": "code",
      "source": [
        "print(\"Accuracy:\", accuracy_score(y_test, y_pred))\n",
        "print(\"Precision:\", precision_score(y_test, y_pred))\n",
        "print(\"Recall:\", recall_score(y_test, y_pred))"
      ],
      "metadata": {
        "id": "x-8UuA-MY8Jj"
      },
      "execution_count": null,
      "outputs": []
    },
    {
      "cell_type": "markdown",
      "source": [
        "#FAIRNESS W/ DEMOGRAPHIC VARIABLE: GENDER\n"
      ],
      "metadata": {
        "id": "bJwuGjogS7wh"
      }
    },
    {
      "cell_type": "code",
      "source": [
        "# just to access the data easily\n",
        "survey_df #the data is still encoded"
      ],
      "metadata": {
        "id": "UCX5le2_acAl"
      },
      "execution_count": null,
      "outputs": []
    },
    {
      "cell_type": "markdown",
      "source": [
        "##Male only"
      ],
      "metadata": {
        "id": "JZ1t-RHmwMHl"
      }
    },
    {
      "cell_type": "code",
      "source": [
        "df_male = survey_df[survey_df[\"Gender\"] == 8]#8 is the class it is giving us for the Male values\n",
        "\n",
        "#df_male = survey_df.loc([survey_df[\"Gender\"] == '8']) - this did not work either\n",
        "\n",
        "# Print the number of rows in the filtered DataFrame to see what we get\n",
        "print(\"Number of rows with 'Male' gender:\", len(df_male))"
      ],
      "metadata": {
        "id": "KbVT9QkvRgaj"
      },
      "execution_count": null,
      "outputs": []
    },
    {
      "cell_type": "code",
      "source": [
        "scaler = preprocessing.StandardScaler()\n",
        "X_train = scaler.fit_transform(X_train)\n",
        "X_test = scaler.transform(X_test)"
      ],
      "metadata": {
        "id": "-PZ4hNF5zNTm"
      },
      "execution_count": null,
      "outputs": []
    },
    {
      "cell_type": "code",
      "source": [
        "X = df_male.drop(\"treatment\",axis=1)\n",
        "y = df_male.treatment\n",
        "\n",
        "#logistic regression training\n",
        "X_train,X_test,y_train,y_test=train_test_split(X,y,test_size=0.25,random_state=0)\n",
        "LogReg=LogisticRegression()\n",
        "\n",
        "scaler = preprocessing.StandardScaler()\n",
        "X_train = scaler.fit_transform(X_train)\n",
        "X_test = scaler.transform(X_test)\n",
        "\n",
        "LogReg.fit(X_train,y_train)\n",
        "\n",
        "y_pred=LogReg.predict(X_test)"
      ],
      "metadata": {
        "id": "rNBhR1kHS-zT"
      },
      "execution_count": null,
      "outputs": []
    },
    {
      "cell_type": "code",
      "source": [
        "print('Classes', LogReg.classes_)\n",
        "print('Intercept',LogReg.intercept_)\n",
        "print(\"Coefficients\", LogReg.coef_ )"
      ],
      "metadata": {
        "id": "MxaZaimr1i4J"
      },
      "execution_count": null,
      "outputs": []
    },
    {
      "cell_type": "code",
      "source": [
        "print(\"Accuracy\", LogReg.score(X_test, y_test))\n",
        "print(classification_report(y_test, LogReg.predict(X_test)))"
      ],
      "metadata": {
        "id": "ESKwdU4d1lzk"
      },
      "execution_count": null,
      "outputs": []
    },
    {
      "cell_type": "code",
      "source": [
        "conf_mat = confusion_matrix(y_test, y_pred)\n",
        "conf_mat"
      ],
      "metadata": {
        "id": "eB73AAf-2mjt"
      },
      "execution_count": null,
      "outputs": []
    },
    {
      "cell_type": "code",
      "source": [
        "categories = [4,8]\n",
        "fig, ax = plt.subplots()\n",
        "plt.xticks([0,1], categories)\n",
        "plt.yticks([0,1], categories)\n",
        "# create heatmap\n",
        "sns.heatmap(pd.DataFrame(conf_mat), annot=True, cmap=\"YlGnBu\" ,fmt='g')\n",
        "ax.xaxis.set_label_position(\"top\")\n",
        "plt.tight_layout()\n",
        "plt.title('Confusion matrix', y=1.1)\n",
        "plt.ylabel('Actual label')\n",
        "plt.xlabel('Predicted label')"
      ],
      "metadata": {
        "id": "AR1-eaFg2y5m"
      },
      "execution_count": null,
      "outputs": []
    },
    {
      "cell_type": "markdown",
      "source": [
        "##Female Only"
      ],
      "metadata": {
        "id": "h5lmZ3WfwJD_"
      }
    },
    {
      "cell_type": "code",
      "source": [
        "df_female = survey_df[survey_df[\"Gender\"]== 4] #replaced female with its class: 4\n",
        "X = df_female.drop(\"treatment\",axis=1)\n",
        "y = df_female.treatment\n",
        "\n",
        "#logistic regression training\n",
        "X_train,X_test,y_train,y_test=train_test_split(X,y,test_size=0.25,random_state=0)\n",
        "LogReg=LogisticRegression()\n",
        "\n",
        "scaler = preprocessing.StandardScaler()\n",
        "X_train = scaler.fit_transform(X_train)\n",
        "X_test = scaler.transform(X_test)\n",
        "\n",
        "LogReg.fit(X_train,y_train)\n",
        "\n",
        "y_pred=LogReg.predict(X_test)"
      ],
      "metadata": {
        "id": "HYR4SA1WYIDL"
      },
      "execution_count": null,
      "outputs": []
    },
    {
      "cell_type": "code",
      "source": [
        "print(\"Number of rows with 'Female' gender:\", len(df_female))"
      ],
      "metadata": {
        "colab": {
          "base_uri": "https://localhost:8080/"
        },
        "id": "PgaNI_oTCmOu",
        "outputId": "58885bf0-b185-481f-fcbe-551a5c01b0a9"
      },
      "execution_count": null,
      "outputs": [
        {
          "output_type": "stream",
          "name": "stdout",
          "text": [
            "Number of rows with 'Female' gender: 202\n"
          ]
        }
      ]
    },
    {
      "cell_type": "code",
      "source": [
        "print(\"Accuracy\", LogReg.score(X_test, y_test))\n",
        "print(classification_report(y_test, LogReg.predict(X_test)))"
      ],
      "metadata": {
        "id": "Mje2IauC5KXK"
      },
      "execution_count": null,
      "outputs": []
    },
    {
      "cell_type": "code",
      "source": [
        "conf_mat = confusion_matrix(y_test, y_pred)\n",
        "conf_mat\n",
        "\n",
        "categories = [4,8]\n",
        "fig, ax = plt.subplots()\n",
        "plt.xticks([0,1], categories)\n",
        "plt.yticks([0,1], categories)\n",
        "# create heatmap\n",
        "sns.heatmap(pd.DataFrame(conf_mat), annot=True, cmap=\"YlGnBu\" ,fmt='g')\n",
        "ax.xaxis.set_label_position(\"top\")\n",
        "plt.tight_layout()\n",
        "plt.title('Confusion matrix', y=1.1)\n",
        "plt.ylabel('Actual label')\n",
        "plt.xlabel('Predicted label')"
      ],
      "metadata": {
        "id": "M2dew3lE5OY1"
      },
      "execution_count": null,
      "outputs": []
    }
  ]
}